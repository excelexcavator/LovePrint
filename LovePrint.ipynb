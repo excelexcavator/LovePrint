{
 "cells": [
  {
   "cell_type": "code",
   "execution_count": 167,
   "metadata": {},
   "outputs": [
    {
     "name": "stdout",
     "output_type": "stream",
     "text": [
      "         LOVE*Y         OU*ZZ*\n",
      "       LOVE*YOU*Z     Z*LOVE*YOU\n",
      "      *ZZ*LOVE*YOU   *ZZ*LOVE*YOU\n",
      "     *ZZ*LOVE*YOU*Z Z*LOVE*YOU*ZZ*\n",
      "     LOVE*YOU*ZZ*LOVE*YOU*ZZ*LOVE*\n",
      "     YOU*ZZ*LOVE*YOU*ZZ*LOVE*YOU*Z\n",
      "     Z*LOVE*YOU*ZZ*LOVE*YOU*ZZ*LOV\n",
      "      E*YOU*ZZ*LOVE*YOU*ZZ*LOVE*Y\n",
      "       OU*ZZ*LOVE*YOU*ZZ*LOVE*YO\n",
      "         U*ZZ*LOVE*YOU*ZZ*LOVE\n",
      "           *YOU*ZZ*LOVE*YOU*\n",
      "             ZZ*LOVE*YOU*Z\n",
      "               Z*LOVE*YO\n",
      "                 U*ZZ*\n",
      "                   L"
     ]
    }
   ],
   "source": [
    "word = 'LOVE*YOU*ZZ*'\n",
    "n=6\n",
    "def loveprint(num):\n",
    "    i = 0\n",
    "    for n in range(len(num)):\n",
    "        if num[n] == 0:\n",
    "            print('\\n', end = '')\n",
    "            continue\n",
    "        temp = '%' + str(num[n]) + 's'\n",
    "        print(temp %word[i%len(word)], end = '')\n",
    "        i += 1\n",
    "num = [10,1,1,1,1,1,10,1,1,1,1,1,0,\\\n",
    "       8,1,1,1,1,1,1,1,1,1,6,1,1,1,1,1,1,1,1,1,0,\\\n",
    "       7,1,1,1,1,1,1,1,1,1,1,1,4,1,1,1,1,1,1,1,1,1,1,1,0,\\\n",
    "       6,1,1,1,1,1,1,1,1,1,1,1,1,1,2,1,1,1,1,1,1,1,1,1,1,1,1,1,0,\\\n",
    "       6,1,1,1,1,1,1,1,1,1,1,1,1,1,1,1,1,1,1,1,1,1,1,1,1,1,1,1,1,0,\\\n",
    "       6,1,1,1,1,1,1,1,1,1,1,1,1,1,1,1,1,1,1,1,1,1,1,1,1,1,1,1,1,0,\\\n",
    "       6,1,1,1,1,1,1,1,1,1,1,1,1,1,1,1,1,1,1,1,1,1,1,1,1,1,1,1,1,0,\\\n",
    "       7,1,1,1,1,1,1,1,1,1,1,1,1,1,1,1,1,1,1,1,1,1,1,1,1,1,1,0,\\\n",
    "       8,1,1,1,1,1,1,1,1,1,1,1,1,1,1,1,1,1,1,1,1,1,1,1,1,0,\\\n",
    "       10,1,1,1,1,1,1,1,1,1,1,1,1,1,1,1,1,1,1,1,1,0,\\\n",
    "       12,1,1,1,1,1,1,1,1,1,1,1,1,1,1,1,1,0,\\\n",
    "       14,1,1,1,1,1,1,1,1,1,1,1,1,0,\\\n",
    "       16,1,1,1,1,1,1,1,1,0,\\\n",
    "       18,1,1,1,1,0,\\\n",
    "       20]\n",
    "loveprint(num)\n"
   ]
  },
  {
   "cell_type": "code",
   "execution_count": null,
   "metadata": {},
   "outputs": [],
   "source": []
  }
 ],
 "metadata": {
  "kernelspec": {
   "display_name": "Python 3",
   "language": "python",
   "name": "python3"
  },
  "language_info": {
   "codemirror_mode": {
    "name": "ipython",
    "version": 3
   },
   "file_extension": ".py",
   "mimetype": "text/x-python",
   "name": "python",
   "nbconvert_exporter": "python",
   "pygments_lexer": "ipython3",
   "version": "3.7.0"
  }
 },
 "nbformat": 4,
 "nbformat_minor": 2
}
